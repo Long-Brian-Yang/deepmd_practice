{
 "cells": [
  {
   "cell_type": "code",
   "execution_count": 4,
   "metadata": {},
   "outputs": [
    {
     "name": "stdout",
     "output_type": "stream",
     "text": [
      "Created directory: /Users/brian/DeePMD-kit_Tutorial\n",
      "Downloading dataset...\n",
      "Extracting dataset...\n",
      "Current path is: /Users/brian/DeePMD-kit_Tutorial\n"
     ]
    }
   ],
   "source": [
    "import os\n",
    "\n",
    "# Define the dataset URL and the paths\n",
    "dataset_url = \"https://bohrium-api.dp.tech/ds-dl/DeePMD-kit-Tutorial-a8z5-v1.zip\"\n",
    "zip_file_name = \"DeePMD-kit-Tutorial-a8z5-v1.zip\"\n",
    "dataset_directory = \"DeePMD-kit_Tutorial\"\n",
    "home_directory = os.path.expanduser(\"~\")  # Use home directory\n",
    "local_zip_path = os.path.join(home_directory, zip_file_name)\n",
    "extract_path = os.path.join(home_directory, \"DeePMD-kit_Tutorial\")\n",
    "\n",
    "# Ensure the base directory exists\n",
    "if not os.path.exists(extract_path):\n",
    "    os.makedirs(extract_path)\n",
    "    print(f\"Created directory: {extract_path}\")\n",
    "\n",
    "# Check if the dataset directory exists to avoid re-downloading and re-extracting\n",
    "if not os.path.isdir(os.path.join(extract_path, dataset_directory)):\n",
    "    # Download the dataset if it doesn't already exist\n",
    "    if not os.path.isfile(local_zip_path):\n",
    "        print(\"Downloading dataset...\")\n",
    "        os.system(f\"wget -q -O {local_zip_path} {dataset_url}\")\n",
    "    \n",
    "    # Extract the dataset\n",
    "    if os.path.isfile(local_zip_path):\n",
    "        print(\"Extracting dataset...\")\n",
    "        os.system(f\"unzip -q -n {local_zip_path} -d {extract_path}\")\n",
    "    else:\n",
    "        raise FileNotFoundError(f\"Failed to download the file from {dataset_url}\")\n",
    "else:\n",
    "    print(\"Dataset is already downloaded and extracted.\")\n",
    "\n",
    "# Change the current working directory\n",
    "os.chdir(extract_path)\n",
    "print(f\"Current path is: {os.getcwd()}\")\n"
   ]
  },
  {
   "cell_type": "code",
   "execution_count": 6,
   "metadata": {},
   "outputs": [
    {
     "name": "stdout",
     "output_type": "stream",
     "text": [
      "zsh:1: command not found: tree\n"
     ]
    }
   ],
   "source": [
    "! tree DeePMD-kit_Tutorial -L 1"
   ]
  }
 ],
 "metadata": {
  "kernelspec": {
   "display_name": "base",
   "language": "python",
   "name": "python3"
  },
  "language_info": {
   "codemirror_mode": {
    "name": "ipython",
    "version": 3
   },
   "file_extension": ".py",
   "mimetype": "text/x-python",
   "name": "python",
   "nbconvert_exporter": "python",
   "pygments_lexer": "ipython3",
   "version": "3.11.7"
  }
 },
 "nbformat": 4,
 "nbformat_minor": 2
}
